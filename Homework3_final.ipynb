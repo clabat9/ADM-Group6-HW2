{
 "cells": [
  {
   "cell_type": "markdown",
   "metadata": {},
   "source": [
    "# Homework 3 - Find the perfect place to stay in Texas!"
   ]
  },
  {
   "cell_type": "markdown",
   "metadata": {},
   "source": [
    "### Claudio Battiloro, Giacomo Lo Cascio, Theodoros Sofianos"
   ]
  },
  {
   "attachments": {},
   "cell_type": "markdown",
   "metadata": {},
   "source": [
    "![alt text](https://img.buzzfeed.com/buzzfeed-static/static/2014-07/30/17/enhanced/webdr10/anigif_enhanced-27524-1406755928-1.gif \"Walker Texas Ranger\")"
   ]
  },
  {
   "cell_type": "markdown",
   "metadata": {},
   "source": [
    "The homework consists in analyzing the text of Airbnb property listings in Texas and building a search engine.\n",
    "\n"
   ]
  },
  {
   "cell_type": "markdown",
   "metadata": {},
   "source": [
    "First of all, we need to import libs:\n"
   ]
  },
  {
   "cell_type": "code",
   "execution_count": 1,
   "metadata": {},
   "outputs": [],
   "source": [
    "import pandas as pd\n",
    "import pickle"
   ]
  },
  {
   "cell_type": "markdown",
   "metadata": {},
   "source": [
    "We've choosen to run the analysis creating a function for every request. We've done this in order to make the code clearier and easier to understand. Of course, it's also permits to modify single requestes without changing the entire code and don't worrying about memory issues. All this funtions are stored in the following .py:"
   ]
  },
  {
   "cell_type": "code",
   "execution_count": 2,
   "metadata": {},
   "outputs": [],
   "source": [
    "import Hw3_lib as h\n"
   ]
  },
  {
   "cell_type": "code",
   "execution_count": 3,
   "metadata": {},
   "outputs": [],
   "source": [
    "# Bonus cell in case the reader wanna open this files using pickle(of course directories have to be changed).\n",
    "with open(\"inverted_index2\",\"rb\") as f:\n",
    "    inverted_index2 = pickle.load(f)\n",
    "with open(\"vocabulary\",\"rb\") as f:\n",
    "    vocabulary = pickle.load(f)\n",
    "with open(\"inverted_index\",\"rb\") as f:\n",
    "    inverted_index = pickle.load(f)"
   ]
  },
  {
   "cell_type": "markdown",
   "metadata": {},
   "source": [
    "## - Create documents"
   ]
  },
  {
   "cell_type": "markdown",
   "metadata": {},
   "source": [
    "First of all we need to build our corpus of documents. \n",
    "\n",
    "In order to do this, we are asked to split the dataset in a .tsv file for each row. As explained in the \"documentation\" of our lib, we can use the following function. The function has a pre-setted path in which it will save the docs, but, of course, it can be easily changed."
   ]
  },
  {
   "cell_type": "code",
   "execution_count": 6,
   "metadata": {},
   "outputs": [],
   "source": [
    "path = r\"D:\\Claudio\\Uni\\M 1° anno Sapienza\\AMDS\\Homeworks\\Hw3\\Datasets\\Airbnb_Texas_Rentals.csv\"\n",
    "number_of_docs = h.csv_to_tsv(path_of_the_doc_to_convert = path)"
   ]
  },
  {
   "cell_type": "markdown",
   "metadata": {},
   "source": [
    "The function returns the number of doc, this will be useful later.\n",
    "\n",
    "Now we have the aforementioned .tsv file we need."
   ]
  },
  {
   "cell_type": "markdown",
   "metadata": {},
   "source": [
    "## - PreProcessing"
   ]
  },
  {
   "cell_type": "markdown",
   "metadata": {},
   "source": [
    "Before proceeding with the definition of a search engine, we need to PreProcess the documents. In order to do this we decided to load the datasets and preprocess it entirely with functions we implemented and explained in our lib. The \"PreProcessing\" function implements:\n",
    "- the Tokenizing of the documents\n",
    "- the removal of stop-words\n",
    "- the stemming of words\n",
    "- the removal of non-ASCII characters\n",
    "- the removal of punctuation\n",
    "- the replacing of numbers with their literal representation\n",
    "- the conversion of words in lower case\n",
    "\n",
    "Of course, the same functions can be applied also on the single .tsv files by simply loading them with Pandas, but is drastically less efficient, becouse in our way it's possible to vectorize the procedure by using \"apply\" function, instead of implements a loop.\n",
    "\n",
    "(Aris told us we can do this, also becouse the same function we wrote could be used in both way, .tsv or .csv)"
   ]
  },
  {
   "cell_type": "code",
   "execution_count": 7,
   "metadata": {},
   "outputs": [],
   "source": [
    "data = pd.read_csv(path, engine = \"python\")\n",
    "pdata = data.apply(h.preProcessing, axis = 1)"
   ]
  },
  {
   "cell_type": "markdown",
   "metadata": {},
   "source": [
    "Now that we have our preprocessed dataset, we just need to save each record as .tsv. We can use the same function as before, but passing to the function the df and not a path."
   ]
  },
  {
   "cell_type": "code",
   "execution_count": 9,
   "metadata": {},
   "outputs": [
    {
     "data": {
      "text/plain": [
       "18260"
      ]
     },
     "execution_count": 9,
     "metadata": {},
     "output_type": "execute_result"
    }
   ],
   "source": [
    "h.csv_to_tsv(pdata = pdata)"
   ]
  },
  {
   "cell_type": "markdown",
   "metadata": {},
   "source": [
    "At this point, all documents are saved, preprocessed and ready to be used in a search engine!"
   ]
  },
  {
   "cell_type": "markdown",
   "metadata": {},
   "source": [
    "## - $\\mathbf{1^{st}}$ Search Engine: Conjunctive query"
   ]
  },
  {
   "cell_type": "markdown",
   "metadata": {},
   "source": [
    "At this moment, we narrow out interest on the description and title of each document. It means that the first Search Engine will evaluate queries with respect to the aforementioned information."
   ]
  },
  {
   "cell_type": "markdown",
   "metadata": {},
   "source": [
    "### Vocabulary"
   ]
  },
  {
   "cell_type": "markdown",
   "metadata": {},
   "source": [
    "Before building the index, we create a file named vocabulary, as a dictionary, that maps each word to an integer (term_id). We do this with the following function, that takes the number of docs and the path where they're saved. This will be useful later. Moreover, the function saves the vocabulary as a \"pickle\" to avoid its creation for any different application on the same corpus."
   ]
  },
  {
   "cell_type": "code",
   "execution_count": 10,
   "metadata": {},
   "outputs": [],
   "source": [
    "ppath = r\"D:\\Claudio\\Uni\\M 1° anno Sapienza\\AMDS\\Homeworks\\Hw3\\ptsv\\\\\"\n",
    "vocabulary = h.create_vocabulary(number_of_docs, ppath)"
   ]
  },
  {
   "cell_type": "markdown",
   "metadata": {},
   "source": [
    "### Inverted Index\n",
    "\n",
    "Now we can build our first inverted index. In order to improve efficiency within respect to the code we wrote (just look at the lib to understand why), it will be a dictionary of this format:\n",
    "\n",
    "```\n",
    "{\n",
    "term1:[document_1, document_2, document_4],\n",
    "term2:[document_1, document_3, document_5, document_6],\n",
    "...}\n",
    "\n",
    "```\n",
    "\n",
    "We can do this with the following function, that takes the number of documents ad the path where they're saved. Moreover, the function saves the vocabulary as a \"pickle\" to avoid its creation for any different application on the same corpus."
   ]
  },
  {
   "cell_type": "code",
   "execution_count": 12,
   "metadata": {},
   "outputs": [],
   "source": [
    "inverted_index = h.create_inverted_index(number_of_docs, ppath)"
   ]
  },
  {
   "cell_type": "markdown",
   "metadata": {},
   "source": [
    "The inverted index is saved on the repo."
   ]
  },
  {
   "cell_type": "markdown",
   "metadata": {},
   "source": [
    "### The Search Engine"
   ]
  },
  {
   "cell_type": "markdown",
   "metadata": {},
   "source": [
    "Since we are requested to deal with conjunctive queries (AND), each of the returned documents should contain all the words in the query. The final output of the query must return, if present, the following information for each of the selected documents:\n",
    "\n",
    "- Title\n",
    "- Description\n",
    "- City\n",
    "- Url\n",
    "\n",
    "To do this, we implemented a function that returns the results taking the inverted index and the path where non preprocessed documents are saved. We present some examples, in order to show the properties of the search engine:\n"
   ]
  },
  {
   "cell_type": "code",
   "execution_count": 8,
   "metadata": {},
   "outputs": [
    {
     "name": "stdout",
     "output_type": "stream",
     "text": [
      "\u001b[4m\u001b[1m\u001b[34mInsert your query:\u001b[0m\n",
      "new house with garden\n"
     ]
    },
    {
     "data": {
      "text/html": [
       "<style  type=\"text/css\" >\n",
       "</style>  \n",
       "<table id=\"T_83840374_ecb0_11e8_9667_f85971f19905\" > \n",
       "<thead>    <tr> \n",
       "        <th class=\"col_heading level0 col0\" >TITLE</th> \n",
       "        <th class=\"col_heading level0 col1\" >DESCRIPTION</th> \n",
       "        <th class=\"col_heading level0 col2\" >CITY</th> \n",
       "        <th class=\"col_heading level0 col3\" >URL</th> \n",
       "    </tr></thead> \n",
       "<tbody>    <tr> \n",
       "        <td id=\"T_83840374_ecb0_11e8_9667_f85971f19905row0_col0\" class=\"data row0 col0\" >Sleep in luxury\t close to Lackland AFB.</td> \n",
       "        <td id=\"T_83840374_ecb0_11e8_9667_f85971f19905row0_col1\" class=\"data row0 col1\" >Your room is furnished a top of the line Sealy supreme comfort mattress (new)\t Egyptian cotton sheets\t bath linens\t flat screen TV w/full cable\t high speed internet\t coffee maker\t fridge\t microwave\t desk\t dresser\t bookshelves\t rocking chair\t use of laundry facilities\t iron\t hair dryer\t travel size amenities\t snack basket\t bottled water\t use of kitchen. The back yard is cozy with fruit trees and a vegetable garden\t BBQ. I have well behaved pets that are kept in a separate part of the house.</td> \n",
       "        <td id=\"T_83840374_ecb0_11e8_9667_f85971f19905row0_col2\" class=\"data row0 col2\" >San Antonio</td> \n",
       "        <td id=\"T_83840374_ecb0_11e8_9667_f85971f19905row0_col3\" class=\"data row0 col3\" >https://www.airbnb.com/rooms/17012594?location=Castroville%2C%20TX</td> \n",
       "    </tr>    <tr> \n",
       "        <td id=\"T_83840374_ecb0_11e8_9667_f85971f19905row1_col0\" class=\"data row1 col0\" >Colorful Garden Home plus Private Studio Apartment</td> \n",
       "        <td id=\"T_83840374_ecb0_11e8_9667_f85971f19905row1_col1\" class=\"data row1 col1\" >Natural beauty and great art make this clean\t comfortable house and attached apartment special. New appliances and fixtures\t wood + tile floors\t and fresh-bright colors make it cheery and relaxing. Two great kitchens\t brand new quality beds\t a sunny patio\t enclosed backyard with trees\t covered parking\t  laundry room. Pack-and-play for small guests. Central to our diverse Military City USA\t yet a short walk to 1\t000-acre park. Airport 10 min.\t Downtown 20\t Lackland 25 min. Kids and Pets Welcome.</td> \n",
       "        <td id=\"T_83840374_ecb0_11e8_9667_f85971f19905row1_col2\" class=\"data row1 col2\" >San Antonio</td> \n",
       "        <td id=\"T_83840374_ecb0_11e8_9667_f85971f19905row1_col3\" class=\"data row1 col3\" >https://www.airbnb.com/rooms/17341454?location=Converse%2C%20TX</td> \n",
       "    </tr>    <tr> \n",
       "        <td id=\"T_83840374_ecb0_11e8_9667_f85971f19905row2_col0\" class=\"data row2 col0\" >Stylish Stone Cottage on White Rock Lake</td> \n",
       "        <td id=\"T_83840374_ecb0_11e8_9667_f85971f19905row2_col1\" class=\"data row2 col1\" >Newly remodeled\t open-concept living located one block from White Rock Lake and the historic Bath House. Interior luxuries include an organic mattress\t black-out shades\t full kitchen &amp; two walk-in closets. Outdoor features include firepit and organic gardens\t trails\t tennis court &amp; beautiful sunset &amp; downtown views. Saturday farmer's market &amp; hip restaurants and bars nearby.</td> \n",
       "        <td id=\"T_83840374_ecb0_11e8_9667_f85971f19905row2_col2\" class=\"data row2 col2\" >Dallas</td> \n",
       "        <td id=\"T_83840374_ecb0_11e8_9667_f85971f19905row2_col3\" class=\"data row2 col3\" >https://www.airbnb.com/rooms/15132655?location=Balch%20Springs%2C%20TX</td> \n",
       "    </tr>    <tr> \n",
       "        <td id=\"T_83840374_ecb0_11e8_9667_f85971f19905row3_col0\" class=\"data row3 col0\" >New!3BR Fort Worth House near AT&T Stadium w/ Spa!</td> \n",
       "        <td id=\"T_83840374_ecb0_11e8_9667_f85971f19905row3_col1\" class=\"data row3 col1\" >Explore the City of Cowboys and Culture from this 3-bedroom\t 2.5-bathroom Fort Worth vacation rental house. With 1\t600 square feet of well-appointed living space\t this charming home offers sleeping accommodations for 8\t a beautiful backyard garden\t a spa and four season sun/moon dining room. Whether you spend your stay in the sunny backyard oasis or venture out downtown\t this Texas property guarantees you and your group the vacation of a lifetime!</td> \n",
       "        <td id=\"T_83840374_ecb0_11e8_9667_f85971f19905row3_col2\" class=\"data row3 col2\" >Fort Worth</td> \n",
       "        <td id=\"T_83840374_ecb0_11e8_9667_f85971f19905row3_col3\" class=\"data row3 col3\" >https://www.airbnb.com/rooms/19193017?location=Colleyville%2C%20TX</td> \n",
       "    </tr>    <tr> \n",
       "        <td id=\"T_83840374_ecb0_11e8_9667_f85971f19905row4_col0\" class=\"data row4 col0\" >Vista Breeze</td> \n",
       "        <td id=\"T_83840374_ecb0_11e8_9667_f85971f19905row4_col1\" class=\"data row4 col1\" >New house just one block from the beach. This 3 bedrooms 3 baths beach house with 1800 sq. ft. of space was built in 2008. Located in Palm Beach\t it is a short 2 minutes walk to the beach\t one mile walk or drive to Galveston Island State Park\t and 7 miles to Walmart\t Moody Gardens and Schlitterbahn.</td> \n",
       "        <td id=\"T_83840374_ecb0_11e8_9667_f85971f19905row4_col2\" class=\"data row4 col2\" >Galveston</td> \n",
       "        <td id=\"T_83840374_ecb0_11e8_9667_f85971f19905row4_col3\" class=\"data row4 col3\" >https://www.airbnb.com/rooms/18371258?location=Bayou%20Vista%2C%20TX</td> \n",
       "    </tr></tbody> \n",
       "</table> "
      ],
      "text/plain": [
       "<pandas.io.formats.style.Styler at 0x25bb36a3b38>"
      ]
     },
     "metadata": {},
     "output_type": "display_data"
    }
   ],
   "source": [
    "np_path = r\"D:\\Claudio\\Uni\\M 1° anno Sapienza\\AMDS\\Homeworks\\Hw3\\tsv\\\\\"\n",
    "_,_,_,res = h.first_search_engine(inverted_index, np_path)\n",
    "if type(res) != str : # If there are results ( look at the lib)\n",
    "    display(res.head().style.hide_index()) # Just some results for the tidiness"
   ]
  },
  {
   "cell_type": "markdown",
   "metadata": {},
   "source": [
    "We implemented some features to catch searchs without results:"
   ]
  },
  {
   "cell_type": "code",
   "execution_count": 5,
   "metadata": {
    "scrolled": true
   },
   "outputs": [
    {
     "name": "stdout",
     "output_type": "stream",
     "text": [
      "\u001b[4m\u001b[1m\u001b[34mInsert your query:\u001b[0m\n",
      "tre tigri sopra tre tigri\n",
      "\u001b[4m\u001b[31mYour search did not bring results. Do you wanna try again? [y/n]\u001b[0m\n",
      "i don't know\n",
      "\u001b[4m\u001b[31mYou can choose [y/n] !\u001b[0m\n",
      "y\n",
      "\u001b[4m\u001b[1m\u001b[34mInsert your query:\u001b[0m\n",
      "new house with garden\n"
     ]
    },
    {
     "data": {
      "text/html": [
       "<style  type=\"text/css\" >\n",
       "</style>  \n",
       "<table id=\"T_75ff1112_ecf3_11e8_b91b_f85971f19905\" > \n",
       "<thead>    <tr> \n",
       "        <th class=\"col_heading level0 col0\" >TITLE</th> \n",
       "        <th class=\"col_heading level0 col1\" >DESCRIPTION</th> \n",
       "        <th class=\"col_heading level0 col2\" >CITY</th> \n",
       "        <th class=\"col_heading level0 col3\" >URL</th> \n",
       "    </tr></thead> \n",
       "<tbody>    <tr> \n",
       "        <td id=\"T_75ff1112_ecf3_11e8_b91b_f85971f19905row0_col0\" class=\"data row0 col0\" >BRAND NEW HOME\t EXQUISITE DECORATION\t LARGE GARDEN</td> \n",
       "        <td id=\"T_75ff1112_ecf3_11e8_b91b_f85971f19905row0_col1\" class=\"data row0 col1\" >Brand new house with exquisite decoration. We have two indoor parking spaces and three exterior parking spaces in case you are traveling by car. The beds are orthopedic which provides a comfortable rest. For us cleaning is an essential point in the house\t so feel totally safe. The house has been designed and decorated to satisfy the needs of families\t business trips and relaxation time.  We hope to make your stay an unforgettable experience!</td> \n",
       "        <td id=\"T_75ff1112_ecf3_11e8_b91b_f85971f19905row0_col2\" class=\"data row0 col2\" >Spring</td> \n",
       "        <td id=\"T_75ff1112_ecf3_11e8_b91b_f85971f19905row0_col3\" class=\"data row0 col3\" >https://www.airbnb.com/rooms/15285127?location=Conroe%2C%20TX</td> \n",
       "    </tr>    <tr> \n",
       "        <td id=\"T_75ff1112_ecf3_11e8_b91b_f85971f19905row1_col0\" class=\"data row1 col0\" >Sleep in luxury\t close to Lackland AFB.</td> \n",
       "        <td id=\"T_75ff1112_ecf3_11e8_b91b_f85971f19905row1_col1\" class=\"data row1 col1\" >Your room is furnished a top of the line Sealy supreme comfort mattress (new)\t Egyptian cotton sheets\t bath linens\t flat screen TV w/full cable\t high speed internet\t coffee maker\t fridge\t microwave\t desk\t dresser\t bookshelves\t rocking chair\t use of laundry facilities\t iron\t hair dryer\t travel size amenities\t snack basket\t bottled water\t use of kitchen. The back yard is cozy with fruit trees and a vegetable garden\t BBQ. I have well behaved pets that are kept in a separate part of the house.</td> \n",
       "        <td id=\"T_75ff1112_ecf3_11e8_b91b_f85971f19905row1_col2\" class=\"data row1 col2\" >San Antonio</td> \n",
       "        <td id=\"T_75ff1112_ecf3_11e8_b91b_f85971f19905row1_col3\" class=\"data row1 col3\" >https://www.airbnb.com/rooms/17012594?location=Castroville%2C%20TX</td> \n",
       "    </tr>    <tr> \n",
       "        <td id=\"T_75ff1112_ecf3_11e8_b91b_f85971f19905row2_col0\" class=\"data row2 col0\" >Boutique Style Vacation Rental</td> \n",
       "        <td id=\"T_75ff1112_ecf3_11e8_b91b_f85971f19905row2_col1\" class=\"data row2 col1\" >This remodeled home is where southwestern style meets a modern aesthetic. A 3 BR\t 2 BA house all with new MEMORY FOAM mattresses. Unbeatable location\t convenient to Will Rogers\t Museum District\t West 7th\t Botanical Gardens and Downtown.</td> \n",
       "        <td id=\"T_75ff1112_ecf3_11e8_b91b_f85971f19905row2_col2\" class=\"data row2 col2\" >Fort Worth</td> \n",
       "        <td id=\"T_75ff1112_ecf3_11e8_b91b_f85971f19905row2_col3\" class=\"data row2 col3\" >https://www.airbnb.com/rooms/7772634?location=Benbrook%2C%20TX</td> \n",
       "    </tr>    <tr> \n",
       "        <td id=\"T_75ff1112_ecf3_11e8_b91b_f85971f19905row3_col0\" class=\"data row3 col0\" >Stylish Stone Cottage on White Rock Lake</td> \n",
       "        <td id=\"T_75ff1112_ecf3_11e8_b91b_f85971f19905row3_col1\" class=\"data row3 col1\" >Newly remodeled\t open-concept living located one block from White Rock Lake and the historic Bath House. Interior luxuries include an organic mattress\t black-out shades\t full kitchen &amp; two walk-in closets. Outdoor features include firepit and organic gardens\t trails\t tennis court &amp; beautiful sunset &amp; downtown views. Saturday farmer's market &amp; hip restaurants and bars nearby.</td> \n",
       "        <td id=\"T_75ff1112_ecf3_11e8_b91b_f85971f19905row3_col2\" class=\"data row3 col2\" >Dallas</td> \n",
       "        <td id=\"T_75ff1112_ecf3_11e8_b91b_f85971f19905row3_col3\" class=\"data row3 col3\" >https://www.airbnb.com/rooms/15132655?location=Balch%20Springs%2C%20TX</td> \n",
       "    </tr>    <tr> \n",
       "        <td id=\"T_75ff1112_ecf3_11e8_b91b_f85971f19905row4_col0\" class=\"data row4 col0\" >Private Rm/Bath @ the Gold House!</td> \n",
       "        <td id=\"T_75ff1112_ecf3_11e8_b91b_f85971f19905row4_col1\" class=\"data row4 col1\" >This unique private guest room at the Gold House offers the amenities of home in a city full of things to do! The entire downstairs living room\t kitchen\t and dining area is open to guests. Come on down to SA town and experience Texan hospitality for yourself!  Please note: there is a second guest room at the Gold house\t so if this listing is booked\t do check with me to see if the second room is available! Thanks for your interest!   Cute House: It's a private room upstairs with a full bed\t small desk\t walk-in closet\t Ironing Board\t and en suite bathroom. The window has a nice view of the back yard and wooded easement. The back yard is large with a little garden in the back. The kitchen was recently renovated with nice granite counter tops and new appliances. Also\t there is a brand new running/hiking trail one mile away. Parking is safe and free in the form of my driveway.  More than Two People? No problem: There is a second guestroom in the loft with a full bed that can be reserved via my other listing. http://airbnb.com/rooms/826725  Breakfast/Snacks: The living room/dining room/patio/kitchen are all fair game for guests. Breakfast is provided by way of oatmeal and any items found on the counter (Hot tea and coffee too).   Four-Legged Friends:  I do have two wonderful dogs (lab and husky)\t but don't worry they aren't allowed upstairs. They stay outside during the day\t and sleep in their beds downstairs at night. They are both full of sugar - but if you have a fear of dogs then this place is not for you(URL HIDDEN) Location: It is literally right next to a brand new grocery store but you wouldn't know it from the back yard. It is 10-15 minutes from La Cantera - the gorgeous outdoor shopping mall. As well as Six Flags Fiesta Texas and UTSA. It is 5-10 minutes from the medical center area where all the hospitals are. It is 3 miles from IH-10\t which is the main highway to get to downtown where the Riverwalk is (about 20 minutes by car). Airport - about 15-20 minutes away.   Things to look up for your trip regardless of whether you choose the Gold House for your stay (we want you to have fun!):  In San Antonio... - The Riverwalk  - Market Square - The Spanish Missions (Includes the Alamo of course...you can rent bikes to explore all of them!) - Six Flags Fiesta Texas Theme Park - Sea World Theme Park - Morgan's Wonderland (Special Needs Theme Park) - San Antonio Botanical Gardens - San Antonio Zoo  Within an Hour of San Antonio... - Schlitterbahn Water Park (Amazing rides\t Bring Food\t and Free Parking) - Natural Bridge Caverns (wondrous caves to stay cool) - Natural Bridge Wildlife Ranch (African Safari Texas Style) - Gruene\t Texas (adorable hill country town with shopping and tubing on the river)   The entire downstairs!  Safe neighborhood - within walking distance to a grocery store!  Bus stop is about a 10 minute walk from the front door.  Checkout is more flexible if there are no guests arriving the same night you're leaving.</td> \n",
       "        <td id=\"T_75ff1112_ecf3_11e8_b91b_f85971f19905row4_col2\" class=\"data row4 col2\" >San Antonio</td> \n",
       "        <td id=\"T_75ff1112_ecf3_11e8_b91b_f85971f19905row4_col3\" class=\"data row4 col3\" >https://www.airbnb.com/rooms/1284796?location=Bulverde%2C%20TX</td> \n",
       "    </tr></tbody> \n",
       "</table> "
      ],
      "text/plain": [
       "<pandas.io.formats.style.Styler at 0x224875deba8>"
      ]
     },
     "metadata": {},
     "output_type": "display_data"
    }
   ],
   "source": [
    "_,_,_,res = h.first_search_engine(inverted_index, np_path)\n",
    "if type(res) != str : # If there are results ( look at the lib)\n",
    "    display(res.head().style.hide_index()) # Just some results"
   ]
  },
  {
   "cell_type": "markdown",
   "metadata": {},
   "source": [
    "## - $\\mathbf{2^{nd}}$ Search Engine: Cosine Similarity between Query and Documents Ranking"
   ]
  },
  {
   "cell_type": "markdown",
   "metadata": {},
   "source": [
    "In the new Search Engine, given a query, we want to get the top-k (the choice of k it's up to the user) documents related to the query. In particular:\n",
    "\n",
    "- Find all the documents that contains all the words in the query (as before...).\n",
    "- Sort them by their similarity with the query\n",
    "- Return in output k documents, or all the documents with non-zero similarity with the query when the results are less than k. We must use a heap data structure for maintaining the top-k documents.\n",
    "\n",
    "Note that there is a difference from this and what we did in the class. Here we are returning documents that contain all the query terms."
   ]
  },
  {
   "cell_type": "markdown",
   "metadata": {},
   "source": [
    "### Inverted Index with the TFIDF\n",
    "\n",
    "Our second Inverted Index is of this format:\n",
    "\n",
    "```\n",
    "{\n",
    "term1:[(document1, tfIdf_{term,document1}), (document2, tfIdf_{term,document2}), (document4, tfIdf_{term,document4}), ...],\n",
    "term2:[(document1, tfIdf_{term,document1}), (document3, tfIdf_{term,document3}), (document5, tfIdf_{term,document5}), (document6, tfIdf_{term,document6}), ...],\n",
    "...}\n",
    "```\n",
    "\n",
    "Practically, for each word we get the list of documents in which it is contained in, and the relative *tfIdf* (term frequency–inverse document frequency) score.\n",
    "\n",
    "To build this structure, we have to compute before the IDF of each term with the following function that takes the term, the first inverted index and the number of documents. We decide to store the IDF in a list.\n",
    "\n",
    "Remember that the *idf* of a term is a measure of the importance of the term in the entire corpus and it's defined as:\n",
    "\n",
    "$ \\mathbf{idf_{i} =  \\log \\frac{|D|}{|\\{d: i \\in d\\}|}} $\n",
    "\n",
    "where $|D|$ is the number of the documents in the corpus, and the denominator is the number of documents that contain the term $i$.\n"
   ]
  },
  {
   "cell_type": "code",
   "execution_count": 7,
   "metadata": {},
   "outputs": [],
   "source": [
    "idfi = []\n",
    "for term in vocabulary:\n",
    "    idfi.append(h.IDFi(term,inverted_index,number_of_docs)) "
   ]
  },
  {
   "cell_type": "markdown",
   "metadata": {},
   "source": [
    "Now that we have the list of IDF, it's possible to compute the second inverted index with the following function that takes the number of documents, the path where thery're saved, the vocabulary and the list of IDF. Moreover, the function saves the vocabulary as a \"pickle\" to avoid its creation for any different application on the same corpus.\n",
    "\n",
    "Remember that the *tf* of a term within respect a document is defined as :\n",
    "\n",
    "$ \\mathbf{tf_{i,j} = \\frac{n_{i,j}}{|d_j|}}$\n",
    "\n",
    "where $n_{i,j}$ is the number of occurences of the term $ i $ in the document $j$, and the denominator $ |d_j| $ is the dimension of the document $j$ expressed as the number of words it contains.\n"
   ]
  },
  {
   "cell_type": "code",
   "execution_count": 36,
   "metadata": {},
   "outputs": [],
   "source": [
    "inverted_index2 = h.create_inverted_index_with_TFIDF(number_of_docs, ppath, vocabulary, idfi)"
   ]
  },
  {
   "cell_type": "markdown",
   "metadata": {},
   "source": [
    "The inverted index is saved on the repo."
   ]
  },
  {
   "cell_type": "markdown",
   "metadata": {},
   "source": [
    "## The Search Engine\n",
    "\n",
    "To answer the request, as scoring function we use the Cosine Similarity with respect to the *tfIdf* representations of the documents.\n",
    "\n",
    "The Search Engine returns a list of documents, ranked by their Cosine Similarity with respect to the query.\n",
    "\n",
    "More precisely, the output contains:\n",
    "\n",
    "- Title\n",
    "- Description\n",
    "- City\n",
    "- Url\n",
    "- The similarity score of the documents with respect to the query\n",
    "\n",
    "\n",
    "Remember that the Cosine Similarity between two vectors $\\mathbf{v_1}$ and $\\mathbf{v_2}$ is defined as:\n",
    "\n",
    "$\\text{similarity} = \\cos(\\theta) = {\\mathbf{v_1} \\cdot \\mathbf{v_2} \\over \\|\\mathbf{v_1}\\| \\|\\mathbf{v_2}\\|}.$\n",
    "\n",
    "Another meaningful way to look at the formula is :\n",
    "\n",
    "$\\frac {\\sum_{k=1}^{n} \\mathbf{v_1}(k)\\mathbf{v_2}(k)} {\\sqrt{\\sum_{k=1}^{n} \\mathbf{v_1}(k)^2}  \\sqrt{\\sum_{k=1}^{n} \\mathbf{v_2}(k)^2}}$\n",
    "\n",
    "Vectors belong to $\\mathbb{R}^\\mathbf{n}$  and, in our case $n = \\{\\text{number of distinct words in the query}\\} \\bigcup  \\{\\text{number of distinct words in document}\\}$.\n",
    "This dimension can be very huge, but from the second equation it's easy to understand that nonzero contributions in the sum at the numerator are given by the words that are both in the query and in the document. \n",
    "With this \"tip\", we can improve the computational time and work in dimension $\\mathbb{R}^\\mathbf{m}$, where $m = \\{\\text{number of distinct words in the query}\\} \\bigcap  \\{\\text{number of distinct words in document}\\}$.\n",
    "\n",
    "In our implementation we decided, due to the code structure chosen, to work in a slightly suboptimal way with vectors $ \\in \\mathbb{R}^\\mathbf{p} $ , where $p = \\{\\text{number of distinct words in the query}\\} $.\n",
    "\n",
    "The search engine is implmented through a function that takes the two inverted indices, the vocabulary, the number of documents, the path where they're saved, the list of IDFI, and $k$, that sets how many results user wants (default $k=10$), obtained through an heap structure."
   ]
  },
  {
   "cell_type": "code",
   "execution_count": 11,
   "metadata": {
    "scrolled": true
   },
   "outputs": [
    {
     "name": "stdout",
     "output_type": "stream",
     "text": [
      "\u001b[4m\u001b[1m\u001b[34mInsert your query:\u001b[0m\n",
      "brand house sea\n"
     ]
    },
    {
     "data": {
      "text/html": [
       "<style  type=\"text/css\" >\n",
       "</style>  \n",
       "<table id=\"T_b9a7620c_ec20_11e8_8f5a_f85971f19905\" > \n",
       "<thead>    <tr> \n",
       "        <th class=\"col_heading level0 col0\" >SCORES</th> \n",
       "        <th class=\"col_heading level0 col1\" >TITLE</th> \n",
       "        <th class=\"col_heading level0 col2\" >DESCRIPTION</th> \n",
       "        <th class=\"col_heading level0 col3\" >CITY</th> \n",
       "        <th class=\"col_heading level0 col4\" >URL</th> \n",
       "    </tr></thead> \n",
       "<tbody>    <tr> \n",
       "        <td id=\"T_b9a7620c_ec20_11e8_8f5a_f85971f19905row0_col0\" class=\"data row0 col0\" >0.940757</td> \n",
       "        <td id=\"T_b9a7620c_ec20_11e8_8f5a_f85971f19905row0_col1\" class=\"data row0 col1\" >New House with Pond View & Pool</td> \n",
       "        <td id=\"T_b9a7620c_ec20_11e8_8f5a_f85971f19905row0_col2\" class=\"data row0 col2\" >Sea Foam - Is the Perfect Family Beach House - Sleeps 12 Comfortably + Kid-Friendly. Fish off the balcony or enjoy the view. Conveniently located on 11th street. Very close to the beach\t local stores and restaurants. House is Brand NEW!</td> \n",
       "        <td id=\"T_b9a7620c_ec20_11e8_8f5a_f85971f19905row0_col3\" class=\"data row0 col3\" >Port Aransas</td> \n",
       "        <td id=\"T_b9a7620c_ec20_11e8_8f5a_f85971f19905row0_col4\" class=\"data row0 col4\" >https://www.airbnb.com/rooms/11451221?location=Corpus%20Christi%2C%20TX</td> \n",
       "    </tr>    <tr> \n",
       "        <td id=\"T_b9a7620c_ec20_11e8_8f5a_f85971f19905row1_col0\" class=\"data row1 col0\" >0.881474</td> \n",
       "        <td id=\"T_b9a7620c_ec20_11e8_8f5a_f85971f19905row1_col1\" class=\"data row1 col1\" >Private Rm/Bath @ the Gold House!</td> \n",
       "        <td id=\"T_b9a7620c_ec20_11e8_8f5a_f85971f19905row1_col2\" class=\"data row1 col2\" >This unique private guest room at the Gold House offers the amenities of home in a city full of things to do! The entire downstairs living room\t kitchen\t and dining area is open to guests. Come on down to SA town and experience Texan hospitality for yourself!  Please note: there is a second guest room at the Gold house\t so if this listing is booked\t do check with me to see if the second room is available! Thanks for your interest!   Cute House: It's a private room upstairs with a full bed\t small desk\t walk-in closet\t Ironing Board\t and en suite bathroom. The window has a nice view of the back yard and wooded easement. The back yard is large with a little garden in the back. The kitchen was recently renovated with nice granite counter tops and new appliances. Also\t there is a brand new running/hiking trail one mile away. Parking is safe and free in the form of my driveway.  More than Two People? No problem: There is a second guestroom in the loft with a full bed that can be reserved via my other listing. http://airbnb.com/rooms/826725  Breakfast/Snacks: The living room/dining room/patio/kitchen are all fair game for guests. Breakfast is provided by way of oatmeal and any items found on the counter (Hot tea and coffee too).   Four-Legged Friends:  I do have two wonderful dogs (lab and husky)\t but don't worry they aren't allowed upstairs. They stay outside during the day\t and sleep in their beds downstairs at night. They are both full of sugar - but if you have a fear of dogs then this place is not for you(URL HIDDEN) Location: It is literally right next to a brand new grocery store but you wouldn't know it from the back yard. It is 10-15 minutes from La Cantera - the gorgeous outdoor shopping mall. As well as Six Flags Fiesta Texas and UTSA. It is 5-10 minutes from the medical center area where all the hospitals are. It is 3 miles from IH-10\t which is the main highway to get to downtown where the Riverwalk is (about 20 minutes by car). Airport - about 15-20 minutes away.   Things to look up for your trip regardless of whether you choose the Gold House for your stay (we want you to have fun!):  In San Antonio... - The Riverwalk  - Market Square - The Spanish Missions (Includes the Alamo of course...you can rent bikes to explore all of them!) - Six Flags Fiesta Texas Theme Park - Sea World Theme Park - Morgan's Wonderland (Special Needs Theme Park) - San Antonio Botanical Gardens - San Antonio Zoo  Within an Hour of San Antonio... - Schlitterbahn Water Park (Amazing rides\t Bring Food\t and Free Parking) - Natural Bridge Caverns (wondrous caves to stay cool) - Natural Bridge Wildlife Ranch (African Safari Texas Style) - Gruene\t Texas (adorable hill country town with shopping and tubing on the river)   The entire downstairs!  Safe neighborhood - within walking distance to a grocery store!  Bus stop is about a 10 minute walk from the front door.  Checkout is more flexible if there are no guests arriving the same night you're leaving.</td> \n",
       "        <td id=\"T_b9a7620c_ec20_11e8_8f5a_f85971f19905row1_col3\" class=\"data row1 col3\" >San Antonio</td> \n",
       "        <td id=\"T_b9a7620c_ec20_11e8_8f5a_f85971f19905row1_col4\" class=\"data row1 col4\" >https://www.airbnb.com/rooms/1284796?location=Bulverde%2C%20TX</td> \n",
       "    </tr>    <tr> \n",
       "        <td id=\"T_b9a7620c_ec20_11e8_8f5a_f85971f19905row2_col0\" class=\"data row2 col0\" >0.881474</td> \n",
       "        <td id=\"T_b9a7620c_ec20_11e8_8f5a_f85971f19905row2_col1\" class=\"data row2 col1\" >Private Rm/Bath @ the Gold House!</td> \n",
       "        <td id=\"T_b9a7620c_ec20_11e8_8f5a_f85971f19905row2_col2\" class=\"data row2 col2\" >This unique private guest room at the Gold House offers the amenities of home in a city full of things to do! The entire downstairs living room\t kitchen\t and dining area is open to guests. Come on down to SA town and experience Texan hospitality for yourself!  Please note: there is a second guest room at the Gold house\t so if this listing is booked\t do check with me to see if the second room is available! Thanks for your interest!   Cute House: It's a private room upstairs with a full bed\t small desk\t walk-in closet\t Ironing Board\t and en suite bathroom. The window has a nice view of the back yard and wooded easement. The back yard is large with a little garden in the back. The kitchen was recently renovated with nice granite counter tops and new appliances. Also\t there is a brand new running/hiking trail one mile away. Parking is safe and free in the form of my driveway.  More than Two People? No problem: There is a second guestroom in the loft with a full bed that can be reserved via my other listing. http://airbnb.com/rooms/826725  Breakfast/Snacks: The living room/dining room/patio/kitchen are all fair game for guests. Breakfast is provided by way of oatmeal and any items found on the counter (Hot tea and coffee too).   Four-Legged Friends:  I do have two wonderful dogs (lab and husky)\t but don't worry they aren't allowed upstairs. They stay outside during the day\t and sleep in their beds downstairs at night. They are both full of sugar - but if you have a fear of dogs then this place is not for you(URL HIDDEN) Location: It is literally right next to a brand new grocery store but you wouldn't know it from the back yard. It is 10-15 minutes from La Cantera - the gorgeous outdoor shopping mall. As well as Six Flags Fiesta Texas and UTSA. It is 5-10 minutes from the medical center area where all the hospitals are. It is 3 miles from IH-10\t which is the main highway to get to downtown where the Riverwalk is (about 20 minutes by car). Airport - about 15-20 minutes away.   Things to look up for your trip regardless of whether you choose the Gold House for your stay (we want you to have fun!):  In San Antonio... - The Riverwalk  - Market Square - The Spanish Missions (Includes the Alamo of course...you can rent bikes to explore all of them!) - Six Flags Fiesta Texas Theme Park - Sea World Theme Park - Morgan's Wonderland (Special Needs Theme Park) - San Antonio Botanical Gardens - San Antonio Zoo  Within an Hour of San Antonio... - Schlitterbahn Water Park (Amazing rides\t Bring Food\t and Free Parking) - Natural Bridge Caverns (wondrous caves to stay cool) - Natural Bridge Wildlife Ranch (African Safari Texas Style) - Gruene\t Texas (adorable hill country town with shopping and tubing on the river)   The entire downstairs!  Safe neighborhood - within walking distance to a grocery store!  Bus stop is about a 10 minute walk from the front door.  Checkout is more flexible if there are no guests arriving the same night you're leaving.</td> \n",
       "        <td id=\"T_b9a7620c_ec20_11e8_8f5a_f85971f19905row2_col3\" class=\"data row2 col3\" >San Antonio</td> \n",
       "        <td id=\"T_b9a7620c_ec20_11e8_8f5a_f85971f19905row2_col4\" class=\"data row2 col4\" >https://www.airbnb.com/rooms/1284796?location=Brazos%20River%2C%20TX</td> \n",
       "    </tr>    <tr> \n",
       "        <td id=\"T_b9a7620c_ec20_11e8_8f5a_f85971f19905row3_col0\" class=\"data row3 col0\" >0.830053</td> \n",
       "        <td id=\"T_b9a7620c_ec20_11e8_8f5a_f85971f19905row3_col1\" class=\"data row3 col1\" >Silvia & Luiso \"home sweet home\"</td> \n",
       "        <td id=\"T_b9a7620c_ec20_11e8_8f5a_f85971f19905row3_col2\" class=\"data row3 col2\" >2 Bedroom and 1 bathroom\t One queen bed on each Bedroom(perfect for a family of 4 due to we only have 1 full bathroom).small children's are welcome!!!!!!!!  SAFE And CLEAN !!!!!!! brand new quiet family home nice bathroom between rooms and large closets. T.V.(Both rooms) cable and roku ( gets Netflix\tHulu\tetc.) .   FREE WI-FI !!!!!!!!   NOT A PARTY HOUSE .   All races \treligions\tnationalities WELCOMED!!!!!!.   NO PETS . NO EXTRA PERSON ALLOWED.  Ok to use microwave\tKeurig coffe maker\tassigned area in fridge ( store your leftovers from restaurants ). Our house is located in LACKLAND A.F.B. AREA (7.5 miles \tapprox 20 min) 3 miles from 410 interstate loop a\tHwy 90 and Loop 1604.  APPROXIMATE DISTANCES FROM OUR HOUSE TO : SAT !! San Antonio Intl\t airport(18 Miles- 26 Min.) Sea world (5.2 Miles - 15 Min.)\t Downtown River walk ( 15 Miles - 27 Min.)\t Fiesta Texas Six Flags ( 21 Miles- 29 Min.) Medical center San Antonio (14 Miles-24 Min)\tThe Shops at LA CANTERA (22 Miles- 32 Min.)\tNorth Star Mall ( 16 Miles-24 Min.)\tIngramPark Mall (7.4 Miles-15Min.)\tSan Marcos Outlets(55 Miles-60Min.)\t Austin !Texas (91 Miles-1hr 32 min).   FREE COFFEE\tTEA\tAPPLES\tBANANAS\tFRUIT BARS\tBOTTLED WATER.   close to HEB and Walmart (grocery stores )\t Walgreens and CVS ( pharmacy) \tGas stations( Valero\ttexaco\tshe'll etc).)IHOP and many Restaurants. This house great for vacationers because not a party house !!!!! It's quiet for sleeping day or night.  GUEST ACCESS for the price per night you have access to 2 Bedrooms and 1 full Bathroom for up to 4 people maximum ( No extra people allowed) 2 persons per Bedroom with queen size bed each ( located up stairs \t next to the family room ) \t kitchen and dinning room and driveway (one car only).</td> \n",
       "        <td id=\"T_b9a7620c_ec20_11e8_8f5a_f85971f19905row3_col3\" class=\"data row3 col3\" >San Antonio</td> \n",
       "        <td id=\"T_b9a7620c_ec20_11e8_8f5a_f85971f19905row3_col4\" class=\"data row3 col4\" >https://www.airbnb.com/rooms/18999165?location=Castroville%2C%20TX</td> \n",
       "    </tr></tbody> \n",
       "</table> "
      ],
      "text/plain": [
       "<pandas.io.formats.style.Styler at 0x29824570f60>"
      ]
     },
     "execution_count": 11,
     "metadata": {},
     "output_type": "execute_result"
    }
   ],
   "source": [
    "np_path = r\"D:\\Claudio\\Uni\\M 1° anno Sapienza\\AMDS\\Homeworks\\Hw3\\tsv\\\\\"\n",
    "h.second_search_engine(inverted_index, inverted_index2, vocabulary,  np_path, idfi, k = 5)"
   ]
  },
  {
   "cell_type": "markdown",
   "metadata": {},
   "source": [
    "## - Our Search Engine\n",
    "\n",
    "Now it's our turn. Airbnb wants us in their team, but they need the best idea ever on how to rank the houses based on the queries of their users.\n",
    "\n",
    "In this scenario, a single user can give in input more information than the single textual query, so we need to take into account all this informations, and think a creative and logical way on how to answer at user's requests.\n",
    "\n",
    "Practically:\n",
    "\n",
    "The user will give us for sure a text query. As a starting point, get the query-related documents by exploiting the first search engine.\n",
    "\n",
    "Once we have the documents, we need to sort them according to our new score. In this step we won't have anymore to take into account the title and description of the documents, we must use only the remaining variables inthe dataset. We must use again a heap data structure for maintaining the top-k documents."
   ]
  },
  {
   "cell_type": "markdown",
   "metadata": {},
   "source": [
    "### The score function\n",
    "\n",
    "To explain what we implemented, it's useful to start by the final formula and then analyze it.\n",
    "But first,let's define our variables:\n",
    "\n",
    "- $s$ = the average rate per night of the current document\n",
    "- $\\widetilde{s}$ = the preffered rate chosen by the user\n",
    "- $b$ = the bedrooms count of the current document\n",
    "- $\\widetilde{b}$ = the preferred number of bedrooms chosen by user\n",
    "- $c$ = the city of the current documents\n",
    "- $\\widetilde{c}$ = the preferred city chosen by user\n",
    "\n",
    "At this point we can define\n",
    "$\\text{score} = f(s, \\widetilde{s}, b, \\widetilde{b}, c, \\widetilde{c},) = \\frac{W}{\\alpha + \\beta + \\omega}(\\alpha \\cdot g(s, \\widetilde{s}) + \\beta\\cdot h(b, \\widetilde{b}) + \\omega \\cdot u(c, \\widetilde{c}))$\n",
    "\n",
    "From this formula it's clear that the final score of the doc is given by a linear combination between three function, each one of them is related to a pair of variables of interest. Moreover, the score is in the range $[0,W]$ due to the normalization factor at the start and (we'll see) that every function is bounded in $[0,1]$. \n",
    "\n",
    "Now we can better understand how it works by analyzing the three aforementioned function:\n",
    "\n",
    "- $g(s, \\widetilde{s}) = \\begin{cases} e^{-\\frac{s}{\\widetilde{s}}} & \\mbox{if } s\\mbox{ is between 0 and } \\widetilde{s} \\\\ 0 & \\mbox{otherwise }\\end{cases} $\n",
    "\n",
    "Let's see how this function looks like (suppose fixed $\\widetilde{s} = 20$):"
   ]
  },
  {
   "cell_type": "code",
   "execution_count": 72,
   "metadata": {},
   "outputs": [
    {
     "data": {
      "image/png": "[encoded data removed]",
      "text/plain": [
       "<Figure size 432x288 with 1 Axes>"
      ]
     },
     "metadata": {},
     "output_type": "display_data"
    }
   ],
   "source": [
    "h.g_fun(20)"
   ]
  },
  {
   "cell_type": "markdown",
   "metadata": {},
   "source": [
    "As we can see, if the user chooses a rate, an house with that rate contributes to the total score with a factor of $\\alpha \\cdot \\frac{1}{e}$ and houses with lower price contributes with higher factors (the max score $\\alpha$ is ideally given by a zero dollars house). This function is clearly bounded in $[0,1]$\n",
    "\n",
    "- $h(b,\\widetilde{b}) = min\\{\\frac{b}{\\widetilde{b}}, \\frac{\\widetilde{b}}{b} \\} $\n",
    "\n",
    "Let's see how this function looks like (suppose fixed $\\widetilde{b} = 4$):"
   ]
  },
  {
   "cell_type": "code",
   "execution_count": 81,
   "metadata": {},
   "outputs": [
    {
     "data": {
      "image/png": "[encoded data removed]",
      "text/plain": [
       "<Figure size 432x288 with 1 Axes>"
      ]
     },
     "metadata": {},
     "output_type": "display_data"
    }
   ],
   "source": [
    "h.h_fun(4)"
   ]
  },
  {
   "cell_type": "markdown",
   "metadata": {},
   "source": [
    "As we can see, if the user chooses a number of bedrooms, an house with that number of bedrooms contributes to total score with a factor $\\beta$ and the score goes down for houses that have more bedrooms ($ \\propto 1/x$) than necessary lower than houses that have less bedrooms ($ \\propto x $) than necessary ( we thought that is better have more beds than less).This function is clearly bounded in $[0,1]$ for number of bedrooms $ > 0$ ( so always, in our case).\n",
    "\n",
    "- $u(c, \\widetilde{c}) = 1 - \\frac{d(c, \\widetilde{c})}{d_{max}} $, where $d(\\cdot)$ computes the distance between the two cities that takes as arguments and $d_{max}$ is a normalization factor chosen, in our case, as the distance between the two most distant points in Texas. In this way, we guarantee that this function is bounded in $[0,1]$.\n",
    "\n",
    "Let's see how this function looks like:"
   ]
  },
  {
   "cell_type": "code",
   "execution_count": 77,
   "metadata": {},
   "outputs": [
    {
     "data": {
      "image/png": "[encoded data removed]",
      "text/plain": [
       "<Figure size 432x288 with 1 Axes>"
      ]
     },
     "metadata": {},
     "output_type": "display_data"
    }
   ],
   "source": [
    "h.u_fun()"
   ]
  },
  {
   "cell_type": "markdown",
   "metadata": {},
   "source": [
    "As we can see, if the user choses a city, an house that is in that city contributes to total score with a factor $ \\omega$ (not totally true, becouse the distance is computed between the centre of the city and the address of the house) and the score linearly goes down while distance grows.\n",
    "\n",
    "Of course a key role is played by the parameters $ \\alpha,\\beta,\\omega $ that are the weights of the related features. In the example we present we've choosen :\n",
    "- $ W = 100 $\n",
    "- $\\alpha = 5 $\n",
    "- $ \\beta = 4  $\n",
    "- $ \\omega = 3 $\n",
    "\n",
    "The search engine is implemented through a function that takes the inverted index, the path where documents are saved and the number $k$ of document in the results (still obtained using a max heap structure)."
   ]
  },
  {
   "cell_type": "code",
   "execution_count": 11,
   "metadata": {
    "scrolled": true
   },
   "outputs": [
    {
     "name": "stdout",
     "output_type": "stream",
     "text": [
      "\u001b[4m\u001b[1m\u001b[34mInsert your query:\u001b[0m\n",
      "new house\n",
      "\u001b[4m\u001b[1m\u001b[34mHow much would you like to spend at most?\u001b[0m\n",
      "25\n",
      "\u001b[4m\u001b[1m\u001b[34mHow many bedrooms do you prefer? \u001b[0m\n",
      "1\n",
      "\u001b[4m\u001b[1m\u001b[34mIn which city would you rather be? \u001b[0m\n",
      "houston\n"
     ]
    },
    {
     "data": {
      "text/html": [
       "<style  type=\"text/css\" >\n",
       "</style>  \n",
       "<table id=\"T_be60e12c_ebce_11e8_8ebd_f85971f19905\" > \n",
       "<thead>    <tr> \n",
       "        <th class=\"col_heading level0 col0\" >SCORE</th> \n",
       "        <th class=\"col_heading level0 col1\" >TITLE</th> \n",
       "        <th class=\"col_heading level0 col2\" >DESCRIPTION</th> \n",
       "        <th class=\"col_heading level0 col3\" >CITY</th> \n",
       "        <th class=\"col_heading level0 col4\" >URL</th> \n",
       "        <th class=\"col_heading level0 col5\" >AVERAGE_RATE_PER_NIGHT</th> \n",
       "        <th class=\"col_heading level0 col6\" >BEDROOMS_COUNT</th> \n",
       "    </tr></thead> \n",
       "<tbody>    <tr> \n",
       "        <td id=\"T_be60e12c_ebce_11e8_8ebd_f85971f19905row0_col0\" class=\"data row0 col0\" >82.4009</td> \n",
       "        <td id=\"T_be60e12c_ebce_11e8_8ebd_f85971f19905row0_col1\" class=\"data row0 col1\" >Fabulous and new room with backyard</td> \n",
       "        <td id=\"T_be60e12c_ebce_11e8_8ebd_f85971f19905row0_col2\" class=\"data row0 col2\" >This room is the new edition to the house. Brand new awesome therapeutic bed with a new flat television with cable and movie channels. Nice clean kitchen with a nice relaxing backyard and good for grilling too.Guest must add a photo b4 reservation. I have another Airbnb Listing: https://www.airbnb.com/rooms/6164806</td> \n",
       "        <td id=\"T_be60e12c_ebce_11e8_8ebd_f85971f19905row0_col3\" class=\"data row0 col3\" >Houston</td> \n",
       "        <td id=\"T_be60e12c_ebce_11e8_8ebd_f85971f19905row0_col4\" class=\"data row0 col4\" >https://www.airbnb.com/rooms/8519026?location=Atascocita%2C%20TX</td> \n",
       "        <td id=\"T_be60e12c_ebce_11e8_8ebd_f85971f19905row0_col5\" class=\"data row0 col5\" >$22</td> \n",
       "        <td id=\"T_be60e12c_ebce_11e8_8ebd_f85971f19905row0_col6\" class=\"data row0 col6\" >1</td> \n",
       "    </tr>    <tr> \n",
       "        <td id=\"T_be60e12c_ebce_11e8_8ebd_f85971f19905row1_col0\" class=\"data row1 col0\" >79.8437</td> \n",
       "        <td id=\"T_be60e12c_ebce_11e8_8ebd_f85971f19905row1_col1\" class=\"data row1 col1\" >New House Guest Room</td> \n",
       "        <td id=\"T_be60e12c_ebce_11e8_8ebd_f85971f19905row1_col2\" class=\"data row1 col2\" >Space will make you feel like you are in India/Thailand. Very calm colors and tones. Quiet location\t but 10-15 min drive to downtown or Metro rapid bus. Food &amp; shopping centers literally walking distance. Netflix included.</td> \n",
       "        <td id=\"T_be60e12c_ebce_11e8_8ebd_f85971f19905row1_col3\" class=\"data row1 col3\" >Austin</td> \n",
       "        <td id=\"T_be60e12c_ebce_11e8_8ebd_f85971f19905row1_col4\" class=\"data row1 col4\" >https://www.airbnb.com/rooms/11006655?location=Buda%2C%20TX</td> \n",
       "        <td id=\"T_be60e12c_ebce_11e8_8ebd_f85971f19905row1_col5\" class=\"data row1 col5\" >$19</td> \n",
       "        <td id=\"T_be60e12c_ebce_11e8_8ebd_f85971f19905row1_col6\" class=\"data row1 col6\" >1</td> \n",
       "    </tr>    <tr> \n",
       "        <td id=\"T_be60e12c_ebce_11e8_8ebd_f85971f19905row2_col0\" class=\"data row2 col0\" >77.3287</td> \n",
       "        <td id=\"T_be60e12c_ebce_11e8_8ebd_f85971f19905row2_col1\" class=\"data row2 col1\" >Private room - newly renovated home</td> \n",
       "        <td id=\"T_be60e12c_ebce_11e8_8ebd_f85971f19905row2_col2\" class=\"data row2 col2\" >Room available in 2\t000 sq foot home that's just minutes south of Austin. House is in a quiet neighborhood and sits on an acre. If you enjoy a quiet atmosphere and are an animal lover\t this could be for you!</td> \n",
       "        <td id=\"T_be60e12c_ebce_11e8_8ebd_f85971f19905row2_col3\" class=\"data row2 col3\" >Buda</td> \n",
       "        <td id=\"T_be60e12c_ebce_11e8_8ebd_f85971f19905row2_col4\" class=\"data row2 col4\" >https://www.airbnb.com/rooms/10327809?location=Buda%2C%20TX</td> \n",
       "        <td id=\"T_be60e12c_ebce_11e8_8ebd_f85971f19905row2_col5\" class=\"data row2 col5\" >$22</td> \n",
       "        <td id=\"T_be60e12c_ebce_11e8_8ebd_f85971f19905row2_col6\" class=\"data row2 col6\" >1</td> \n",
       "    </tr>    <tr> \n",
       "        <td id=\"T_be60e12c_ebce_11e8_8ebd_f85971f19905row3_col0\" class=\"data row3 col0\" >76.3678</td> \n",
       "        <td id=\"T_be60e12c_ebce_11e8_8ebd_f85971f19905row3_col1\" class=\"data row3 col1\" >Spacious Room Near Ft. Sam\t Randolph and Airport.</td> \n",
       "        <td id=\"T_be60e12c_ebce_11e8_8ebd_f85971f19905row3_col2\" class=\"data row3 col2\" >Just north the busy street of Walzem and where you can find everything to include San Antonio's IN-N-OUT\t this house is a brand new 3 bedroom\t 2.5 bathroom in the perfect location. The inner 410 loop and I-35 junction is literally a straight shot west with easy access to both and only 5 miles from Randolph and 7 miles from Fort Sam Houston and 8 miles from the San Antonio Airport.</td> \n",
       "        <td id=\"T_be60e12c_ebce_11e8_8ebd_f85971f19905row3_col3\" class=\"data row3 col3\" >San Antonio</td> \n",
       "        <td id=\"T_be60e12c_ebce_11e8_8ebd_f85971f19905row3_col4\" class=\"data row3 col4\" >https://www.airbnb.com/rooms/16568668?location=Cibolo%2C%20TX</td> \n",
       "        <td id=\"T_be60e12c_ebce_11e8_8ebd_f85971f19905row3_col5\" class=\"data row3 col5\" >$22</td> \n",
       "        <td id=\"T_be60e12c_ebce_11e8_8ebd_f85971f19905row3_col6\" class=\"data row3 col6\" >1</td> \n",
       "    </tr>    <tr> \n",
       "        <td id=\"T_be60e12c_ebce_11e8_8ebd_f85971f19905row4_col0\" class=\"data row4 col0\" >76.3678</td> \n",
       "        <td id=\"T_be60e12c_ebce_11e8_8ebd_f85971f19905row4_col1\" class=\"data row4 col1\" >Spacious Room Near Ft. Sam\t Randolph and Airport.</td> \n",
       "        <td id=\"T_be60e12c_ebce_11e8_8ebd_f85971f19905row4_col2\" class=\"data row4 col2\" >Just north the busy street of Walzem and where you can find everything to include San Antonio's IN-N-OUT\t this house is a brand new 3 bedroom\t 2.5 bathroom in the perfect location. The inner 410 loop and I-35 junction is literally a straight shot west with easy access to both and only 5 miles from Randolph and 7 miles from Fort Sam Houston and 8 miles from the San Antonio Airport.</td> \n",
       "        <td id=\"T_be60e12c_ebce_11e8_8ebd_f85971f19905row4_col3\" class=\"data row4 col3\" >San Antonio</td> \n",
       "        <td id=\"T_be60e12c_ebce_11e8_8ebd_f85971f19905row4_col4\" class=\"data row4 col4\" >https://www.airbnb.com/rooms/16568668?location=Bulverde%2C%20TX</td> \n",
       "        <td id=\"T_be60e12c_ebce_11e8_8ebd_f85971f19905row4_col5\" class=\"data row4 col5\" >$22</td> \n",
       "        <td id=\"T_be60e12c_ebce_11e8_8ebd_f85971f19905row4_col6\" class=\"data row4 col6\" >1</td> \n",
       "    </tr>    <tr> \n",
       "        <td id=\"T_be60e12c_ebce_11e8_8ebd_f85971f19905row5_col0\" class=\"data row5 col0\" >75.9892</td> \n",
       "        <td id=\"T_be60e12c_ebce_11e8_8ebd_f85971f19905row5_col1\" class=\"data row5 col1\" >New room. Turquoise calm colors.</td> \n",
       "        <td id=\"T_be60e12c_ebce_11e8_8ebd_f85971f19905row5_col2\" class=\"data row5 col2\" >Brand new bed in a brand new house. Memory foam so you will fall fast asleep. Very calm colors and tones. Quiet location\t but 10-15 min drive to downtown or Metro rapid bus 20-22 mins.</td> \n",
       "        <td id=\"T_be60e12c_ebce_11e8_8ebd_f85971f19905row5_col3\" class=\"data row5 col3\" >Austin</td> \n",
       "        <td id=\"T_be60e12c_ebce_11e8_8ebd_f85971f19905row5_col4\" class=\"data row5 col4\" >https://www.airbnb.com/rooms/11421176?location=Buda%2C%20TX</td> \n",
       "        <td id=\"T_be60e12c_ebce_11e8_8ebd_f85971f19905row5_col5\" class=\"data row5 col5\" >$24</td> \n",
       "        <td id=\"T_be60e12c_ebce_11e8_8ebd_f85971f19905row5_col6\" class=\"data row5 col6\" >1</td> \n",
       "    </tr>    <tr> \n",
       "        <td id=\"T_be60e12c_ebce_11e8_8ebd_f85971f19905row6_col0\" class=\"data row6 col0\" >63.6048</td> \n",
       "        <td id=\"T_be60e12c_ebce_11e8_8ebd_f85971f19905row6_col1\" class=\"data row6 col1\" >BIG gorgeous renovated 1BR; Central locale; Views!</td> \n",
       "        <td id=\"T_be60e12c_ebce_11e8_8ebd_f85971f19905row6_col2\" class=\"data row6 col2\" >Newly renovated w/ incredible views from large private deck in ideal central location convenient to everything. Hip neighborhood of restaurants\t bars\t coffee house and shops. On Bayou trails\t park entrance 3 blocks. Historic 1800s exterior &amp; stylish modern\t sunny\t open-concept interior w gorgeous mid-century furniture. Private entrance; reserved driveway; lighted walkway and stairs. Shared laundry. Grocery\t general stores close. Walk downtown\t theater district\t light rail. I45 or I10 4 blocks.</td> \n",
       "        <td id=\"T_be60e12c_ebce_11e8_8ebd_f85971f19905row6_col3\" class=\"data row6 col3\" >Houston</td> \n",
       "        <td id=\"T_be60e12c_ebce_11e8_8ebd_f85971f19905row6_col4\" class=\"data row6 col4\" >https://www.airbnb.com/rooms/16924285?location=Alvin%2C%20TX</td> \n",
       "        <td id=\"T_be60e12c_ebce_11e8_8ebd_f85971f19905row6_col5\" class=\"data row6 col5\" >$89</td> \n",
       "        <td id=\"T_be60e12c_ebce_11e8_8ebd_f85971f19905row6_col6\" class=\"data row6 col6\" >1</td> \n",
       "    </tr>    <tr> \n",
       "        <td id=\"T_be60e12c_ebce_11e8_8ebd_f85971f19905row7_col0\" class=\"data row7 col0\" >63.6048</td> \n",
       "        <td id=\"T_be60e12c_ebce_11e8_8ebd_f85971f19905row7_col1\" class=\"data row7 col1\" >BIG gorgeous renovated 1BR; Central locale; Views!</td> \n",
       "        <td id=\"T_be60e12c_ebce_11e8_8ebd_f85971f19905row7_col2\" class=\"data row7 col2\" >Newly renovated w/ incredible views from large private deck in ideal central location convenient to everything. Hip neighborhood of restaurants\t bars\t coffee house and shops. On Bayou trails\t park entrance 3 blocks. Historic 1800s exterior &amp; stylish modern\t sunny\t open-concept interior w gorgeous mid-century furniture. Private entrance; reserved driveway; lighted walkway and stairs. Shared laundry. Grocery\t general stores close. Walk downtown\t theater district\t light rail. I45 or I10 4 blocks.</td> \n",
       "        <td id=\"T_be60e12c_ebce_11e8_8ebd_f85971f19905row7_col3\" class=\"data row7 col3\" >Houston</td> \n",
       "        <td id=\"T_be60e12c_ebce_11e8_8ebd_f85971f19905row7_col4\" class=\"data row7 col4\" >https://www.airbnb.com/rooms/16924285?location=Atascocita%2C%20TX</td> \n",
       "        <td id=\"T_be60e12c_ebce_11e8_8ebd_f85971f19905row7_col5\" class=\"data row7 col5\" >$89</td> \n",
       "        <td id=\"T_be60e12c_ebce_11e8_8ebd_f85971f19905row7_col6\" class=\"data row7 col6\" >1</td> \n",
       "    </tr>    <tr> \n",
       "        <td id=\"T_be60e12c_ebce_11e8_8ebd_f85971f19905row8_col0\" class=\"data row8 col0\" >63.6048</td> \n",
       "        <td id=\"T_be60e12c_ebce_11e8_8ebd_f85971f19905row8_col1\" class=\"data row8 col1\" >BIG gorgeous renovated 1BR; Central locale; Views!</td> \n",
       "        <td id=\"T_be60e12c_ebce_11e8_8ebd_f85971f19905row8_col2\" class=\"data row8 col2\" >Newly renovated w/ incredible views from large private deck in ideal central location convenient to everything. Hip neighborhood of restaurants\t bars\t coffee house and shops. On Bayou trails\t park entrance 3 blocks. Historic 1800s exterior &amp; stylish modern\t sunny\t open-concept interior w gorgeous mid-century furniture. Private entrance; reserved driveway; lighted walkway and stairs. Shared laundry. Grocery\t general stores close. Walk downtown\t theater district\t light rail. I45 or I10 4 blocks.</td> \n",
       "        <td id=\"T_be60e12c_ebce_11e8_8ebd_f85971f19905row8_col3\" class=\"data row8 col3\" >Houston</td> \n",
       "        <td id=\"T_be60e12c_ebce_11e8_8ebd_f85971f19905row8_col4\" class=\"data row8 col4\" >https://www.airbnb.com/rooms/16924285?location=Baytown%2C%20TX</td> \n",
       "        <td id=\"T_be60e12c_ebce_11e8_8ebd_f85971f19905row8_col5\" class=\"data row8 col5\" >$89</td> \n",
       "        <td id=\"T_be60e12c_ebce_11e8_8ebd_f85971f19905row8_col6\" class=\"data row8 col6\" >1</td> \n",
       "    </tr>    <tr> \n",
       "        <td id=\"T_be60e12c_ebce_11e8_8ebd_f85971f19905row9_col0\" class=\"data row9 col0\" >63.5803</td> \n",
       "        <td id=\"T_be60e12c_ebce_11e8_8ebd_f85971f19905row9_col1\" class=\"data row9 col1\" >Charming newly renovated guest house in Montrose</td> \n",
       "        <td id=\"T_be60e12c_ebce_11e8_8ebd_f85971f19905row9_col2\" class=\"data row9 col2\" >The guest house is located on the second floor with a HUGE shared outdoor back patio ideal for relaxing readings or breakfast. The guest house has 1 queen bed\t a large kitchen and a comfortable sofa bed for 2 persons. The apartment is completely furnished and has free Wifi connection.</td> \n",
       "        <td id=\"T_be60e12c_ebce_11e8_8ebd_f85971f19905row9_col3\" class=\"data row9 col3\" >Houston</td> \n",
       "        <td id=\"T_be60e12c_ebce_11e8_8ebd_f85971f19905row9_col4\" class=\"data row9 col4\" >https://www.airbnb.com/rooms/18208344?location=Alvin%2C%20TX</td> \n",
       "        <td id=\"T_be60e12c_ebce_11e8_8ebd_f85971f19905row9_col5\" class=\"data row9 col5\" >$81</td> \n",
       "        <td id=\"T_be60e12c_ebce_11e8_8ebd_f85971f19905row9_col6\" class=\"data row9 col6\" >1</td> \n",
       "    </tr></tbody> \n",
       "</table> "
      ],
      "text/plain": [
       "<pandas.io.formats.style.Styler at 0x2bd5ea91828>"
      ]
     },
     "execution_count": 11,
     "metadata": {},
     "output_type": "execute_result"
    }
   ],
   "source": [
    "h.our_search_engine(inverted_index,np_path,10)"
   ]
  },
  {
   "cell_type": "markdown",
   "metadata": {},
   "source": [
    "As we can see the results are pretty consistent. Let's make another example trying to insert a weird city:"
   ]
  },
  {
   "cell_type": "code",
   "execution_count": 13,
   "metadata": {},
   "outputs": [
    {
     "name": "stdout",
     "output_type": "stream",
     "text": [
      "\u001b[4m\u001b[1m\u001b[34mInsert your query:\u001b[0m\n",
      "house with garden\n",
      "\u001b[4m\u001b[1m\u001b[34mHow much would you like to spend at most?\u001b[0m\n",
      "100\n",
      "\u001b[4m\u001b[1m\u001b[34mHow many bedrooms do you prefer? \u001b[0m\n",
      "2\n",
      "\u001b[4m\u001b[1m\u001b[34mIn which city would you rather be? \u001b[0m\n",
      "cicciano\n",
      "\u001b[4m\u001b[1m\u001b[34mThere is no city in Texas with this name or the service timed out, reinsert please:\u001b[0m\n",
      "austin\n"
     ]
    },
    {
     "data": {
      "text/html": [
       "<style  type=\"text/css\" >\n",
       "</style>  \n",
       "<table id=\"T_f012b12e_ebce_11e8_a66a_f85971f19905\" > \n",
       "<thead>    <tr> \n",
       "        <th class=\"col_heading level0 col0\" >SCORE</th> \n",
       "        <th class=\"col_heading level0 col1\" >TITLE</th> \n",
       "        <th class=\"col_heading level0 col2\" >DESCRIPTION</th> \n",
       "        <th class=\"col_heading level0 col3\" >CITY</th> \n",
       "        <th class=\"col_heading level0 col4\" >URL</th> \n",
       "        <th class=\"col_heading level0 col5\" >AVERAGE_RATE_PER_NIGHT</th> \n",
       "        <th class=\"col_heading level0 col6\" >BEDROOMS_COUNT</th> \n",
       "    </tr></thead> \n",
       "<tbody>    <tr> \n",
       "        <td id=\"T_f012b12e_ebce_11e8_a66a_f85971f19905row0_col0\" class=\"data row0 col0\" >88.245</td> \n",
       "        <td id=\"T_f012b12e_ebce_11e8_a66a_f85971f19905row0_col1\" class=\"data row0 col1\" >Stay at an architect's gorgeous home and garden!</td> \n",
       "        <td id=\"T_f012b12e_ebce_11e8_a66a_f85971f19905row0_col2\" class=\"data row0 col2\" >A beautiful\t modern home\t surrounded by a beautiful garden and full of natural light!  Designed by an architect\t this house is wonderfully furnished.  Just miles from downtown and minutes away from the Arboretum and Domain shopping centers\t this is the perfect spot for a weekend getaway or a business trip.</td> \n",
       "        <td id=\"T_f012b12e_ebce_11e8_a66a_f85971f19905row0_col3\" class=\"data row0 col3\" >Austin</td> \n",
       "        <td id=\"T_f012b12e_ebce_11e8_a66a_f85971f19905row0_col4\" class=\"data row0 col4\" >https://www.airbnb.com/rooms/18998883?location=Austin%2C%20TX</td> \n",
       "        <td id=\"T_f012b12e_ebce_11e8_a66a_f85971f19905row0_col5\" class=\"data row0 col5\" >$60</td> \n",
       "        <td id=\"T_f012b12e_ebce_11e8_a66a_f85971f19905row0_col6\" class=\"data row0 col6\" >2</td> \n",
       "    </tr>    <tr> \n",
       "        <td id=\"T_f012b12e_ebce_11e8_a66a_f85971f19905row1_col0\" class=\"data row1 col0\" >88.245</td> \n",
       "        <td id=\"T_f012b12e_ebce_11e8_a66a_f85971f19905row1_col1\" class=\"data row1 col1\" >Stay at an architect's gorgeous home and garden!</td> \n",
       "        <td id=\"T_f012b12e_ebce_11e8_a66a_f85971f19905row1_col2\" class=\"data row1 col2\" >A beautiful\t modern home\t surrounded by a beautiful garden and full of natural light!  Designed by an architect\t this house is wonderfully furnished.  Just miles from downtown and minutes away from the Arboretum and Domain shopping centers\t this is the perfect spot for a weekend getaway or a business trip.</td> \n",
       "        <td id=\"T_f012b12e_ebce_11e8_a66a_f85971f19905row1_col3\" class=\"data row1 col3\" >Austin</td> \n",
       "        <td id=\"T_f012b12e_ebce_11e8_a66a_f85971f19905row1_col4\" class=\"data row1 col4\" >https://www.airbnb.com/rooms/18998883?location=Cedar%20Park%2C%20TX</td> \n",
       "        <td id=\"T_f012b12e_ebce_11e8_a66a_f85971f19905row1_col5\" class=\"data row1 col5\" >$60</td> \n",
       "        <td id=\"T_f012b12e_ebce_11e8_a66a_f85971f19905row1_col6\" class=\"data row1 col6\" >2</td> \n",
       "    </tr>    <tr> \n",
       "        <td id=\"T_f012b12e_ebce_11e8_a66a_f85971f19905row2_col0\" class=\"data row2 col0\" >86.4037</td> \n",
       "        <td id=\"T_f012b12e_ebce_11e8_a66a_f85971f19905row2_col1\" class=\"data row2 col1\" >Tex-Mex Casita\t close to Pearl!</td> \n",
       "        <td id=\"T_f012b12e_ebce_11e8_a66a_f85971f19905row2_col2\" class=\"data row2 col2\" >Cute hideaway cottage only 1 mile from the Pearl District. Nestled between Government Hill and Dignowity Hill historic districts\t our little Tex-mex casita is just a 15 minute walk to the Pearl or Dignowity Hill beer gardens\t and only 2 miles from the Alamo! You get the privacy of an entire house\t but at the price of a room- perfect for artsy budget travelers. Live like a local in this urban casita\t tastefully decorated with Mexican folk art.</td> \n",
       "        <td id=\"T_f012b12e_ebce_11e8_a66a_f85971f19905row2_col3\" class=\"data row2 col3\" >San Antonio</td> \n",
       "        <td id=\"T_f012b12e_ebce_11e8_a66a_f85971f19905row2_col4\" class=\"data row2 col4\" >https://www.airbnb.com/rooms/12220430?location=Alamo%20Heights%2C%20TX</td> \n",
       "        <td id=\"T_f012b12e_ebce_11e8_a66a_f85971f19905row2_col5\" class=\"data row2 col5\" >$59</td> \n",
       "        <td id=\"T_f012b12e_ebce_11e8_a66a_f85971f19905row2_col6\" class=\"data row2 col6\" >2</td> \n",
       "    </tr>    <tr> \n",
       "        <td id=\"T_f012b12e_ebce_11e8_a66a_f85971f19905row3_col0\" class=\"data row3 col0\" >84.8279</td> \n",
       "        <td id=\"T_f012b12e_ebce_11e8_a66a_f85971f19905row3_col1\" class=\"data row3 col1\" >Peaceful home near airport & downtown</td> \n",
       "        <td id=\"T_f012b12e_ebce_11e8_a66a_f85971f19905row3_col2\" class=\"data row3 col2\" >Our home is filled with warmth from lots of natural light. The original wood floors and earthy decor create a peaceful environment for anyone. We have a big backyard &amp; garden that is very kid and pet friendly as well as many toys to share in our boys room. The house is 5 minutes away from the airport as well as 10 minutes away from downtown. We are in the middle of San Antonio which is a great location for accessing all types of fun.</td> \n",
       "        <td id=\"T_f012b12e_ebce_11e8_a66a_f85971f19905row3_col3\" class=\"data row3 col3\" >San Antonio</td> \n",
       "        <td id=\"T_f012b12e_ebce_11e8_a66a_f85971f19905row3_col4\" class=\"data row3 col4\" >https://www.airbnb.com/rooms/19014109?location=Converse%2C%20TX</td> \n",
       "        <td id=\"T_f012b12e_ebce_11e8_a66a_f85971f19905row3_col5\" class=\"data row3 col5\" >$66</td> \n",
       "        <td id=\"T_f012b12e_ebce_11e8_a66a_f85971f19905row3_col6\" class=\"data row3 col6\" >2</td> \n",
       "    </tr>    <tr> \n",
       "        <td id=\"T_f012b12e_ebce_11e8_a66a_f85971f19905row4_col0\" class=\"data row4 col0\" >77.9973</td> \n",
       "        <td id=\"T_f012b12e_ebce_11e8_a66a_f85971f19905row4_col1\" class=\"data row4 col1\" >Lovely queen bedroom in NW Austin</td> \n",
       "        <td id=\"T_f012b12e_ebce_11e8_a66a_f85971f19905row4_col2\" class=\"data row4 col2\" >My house is close to Lakeline Mall\t highways and the toll road\t restaurants\t grocery stores\t hike and bike trails\t parks\t Lake Travis. Youâ€™ll love my home because of the quiet\t safe neighborhood\t the light\t the really comfy queen size bed\t the sunny kitchen\t the gardens\t hammocks and hot tub. My place is good for couples\t solo adventurers\t business travelers\t and families (with kids). I also have 2 other rooms so if you need more beds please check out my other listings too.</td> \n",
       "        <td id=\"T_f012b12e_ebce_11e8_a66a_f85971f19905row4_col3\" class=\"data row4 col3\" >Austin</td> \n",
       "        <td id=\"T_f012b12e_ebce_11e8_a66a_f85971f19905row4_col4\" class=\"data row4 col4\" >https://www.airbnb.com/rooms/14821566?location=Cedar%20Park%2C%20TX</td> \n",
       "        <td id=\"T_f012b12e_ebce_11e8_a66a_f85971f19905row4_col5\" class=\"data row4 col5\" >$32</td> \n",
       "        <td id=\"T_f012b12e_ebce_11e8_a66a_f85971f19905row4_col6\" class=\"data row4 col6\" >1</td> \n",
       "    </tr>    <tr> \n",
       "        <td id=\"T_f012b12e_ebce_11e8_a66a_f85971f19905row5_col0\" class=\"data row5 col0\" >77.9947</td> \n",
       "        <td id=\"T_f012b12e_ebce_11e8_a66a_f85971f19905row5_col1\" class=\"data row5 col1\" >Beautiful queen bedroom in NW Austin</td> \n",
       "        <td id=\"T_f012b12e_ebce_11e8_a66a_f85971f19905row5_col2\" class=\"data row5 col2\" >My house is close to Lakeline Mall\t highways and the toll road\t restaurants\t grocery stores\t hike and bike trails\t parks\t Lake Travis. Youâ€™ll love my home because of the quiet\t safe neighborhood\t the light\t the really comfy queen size bed\t the sunny kitchen\t the gardens\t hammocks and hot tub. My place is good for couples\t solo adventurers\t business travelers\t and families (with kids). I also have 2 other rooms so if you need more beds please check out my other listings too.</td> \n",
       "        <td id=\"T_f012b12e_ebce_11e8_a66a_f85971f19905row5_col3\" class=\"data row5 col3\" >Austin</td> \n",
       "        <td id=\"T_f012b12e_ebce_11e8_a66a_f85971f19905row5_col4\" class=\"data row5 col4\" >https://www.airbnb.com/rooms/16755710?location=Cedar%20Park%2C%20TX</td> \n",
       "        <td id=\"T_f012b12e_ebce_11e8_a66a_f85971f19905row5_col5\" class=\"data row5 col5\" >$32</td> \n",
       "        <td id=\"T_f012b12e_ebce_11e8_a66a_f85971f19905row5_col6\" class=\"data row5 col6\" >1</td> \n",
       "    </tr>    <tr> \n",
       "        <td id=\"T_f012b12e_ebce_11e8_a66a_f85971f19905row6_col0\" class=\"data row6 col0\" >76.3844</td> \n",
       "        <td id=\"T_f012b12e_ebce_11e8_a66a_f85971f19905row6_col1\" class=\"data row6 col1\" >Beautiful king bedroom in NW Austin</td> \n",
       "        <td id=\"T_f012b12e_ebce_11e8_a66a_f85971f19905row6_col2\" class=\"data row6 col2\" >My house is close to Lakeline Mall\t highways and the toll road\t restaurants\t grocery stores\t hike and bike trails\t parks\t Lake Travis. Youâ€™ll love my home because of the quiet\t safe neighborhood\t the light\t the really comfy king size bed\t the sunny kitchen\t the gardens\t hammocks and hot tub.. My place is good for couples\t solo adventurers\t business travelers\t and families (with kids). I also have 2 other rooms so if you need more beds please check out my other listings too.</td> \n",
       "        <td id=\"T_f012b12e_ebce_11e8_a66a_f85971f19905row6_col3\" class=\"data row6 col3\" >Austin</td> \n",
       "        <td id=\"T_f012b12e_ebce_11e8_a66a_f85971f19905row6_col4\" class=\"data row6 col4\" >https://www.airbnb.com/rooms/15162593?location=Cedar%20Park%2C%20TX</td> \n",
       "        <td id=\"T_f012b12e_ebce_11e8_a66a_f85971f19905row6_col5\" class=\"data row6 col5\" >$37</td> \n",
       "        <td id=\"T_f012b12e_ebce_11e8_a66a_f85971f19905row6_col6\" class=\"data row6 col6\" >1</td> \n",
       "    </tr>    <tr> \n",
       "        <td id=\"T_f012b12e_ebce_11e8_a66a_f85971f19905row7_col0\" class=\"data row7 col0\" >74.6822</td> \n",
       "        <td id=\"T_f012b12e_ebce_11e8_a66a_f85971f19905row7_col1\" class=\"data row7 col1\" >Sleep in luxury\t close to Lackland AFB.</td> \n",
       "        <td id=\"T_f012b12e_ebce_11e8_a66a_f85971f19905row7_col2\" class=\"data row7 col2\" >Your room is furnished a top of the line Sealy supreme comfort mattress (new)\t Egyptian cotton sheets\t bath linens\t flat screen TV w/full cable\t high speed internet\t coffee maker\t fridge\t microwave\t desk\t dresser\t bookshelves\t rocking chair\t use of laundry facilities\t iron\t hair dryer\t travel size amenities\t snack basket\t bottled water\t use of kitchen. The back yard is cozy with fruit trees and a vegetable garden\t BBQ. I have well behaved pets that are kept in a separate part of the house.</td> \n",
       "        <td id=\"T_f012b12e_ebce_11e8_a66a_f85971f19905row7_col3\" class=\"data row7 col3\" >San Antonio</td> \n",
       "        <td id=\"T_f012b12e_ebce_11e8_a66a_f85971f19905row7_col4\" class=\"data row7 col4\" >https://www.airbnb.com/rooms/17012594?location=Castroville%2C%20TX</td> \n",
       "        <td id=\"T_f012b12e_ebce_11e8_a66a_f85971f19905row7_col5\" class=\"data row7 col5\" >$35</td> \n",
       "        <td id=\"T_f012b12e_ebce_11e8_a66a_f85971f19905row7_col6\" class=\"data row7 col6\" >1</td> \n",
       "    </tr>    <tr> \n",
       "        <td id=\"T_f012b12e_ebce_11e8_a66a_f85971f19905row8_col0\" class=\"data row8 col0\" >74.336</td> \n",
       "        <td id=\"T_f012b12e_ebce_11e8_a66a_f85971f19905row8_col1\" class=\"data row8 col1\" >Garden Bedroom</td> \n",
       "        <td id=\"T_f012b12e_ebce_11e8_a66a_f85971f19905row8_col2\" class=\"data row8 col2\" >Comfortable and private\t the garden bedroom is ideal for a long weekend or festival stay. It features a private closet\t a full-sized bed and a lovely view of the backyard.   Common spaces are here for your use as well. Cook a meal and stick to your travel budget\t sit in the living room front window with a cup of coffee and watch the peacocks in the morning or enjoy the sunshine and garden from the back patio.   If being out and about in Austin is your goal\t our neighborhood is central and there are many easy options for getting around the city. We have and love dogs. Please get in touch if you would like to bring yours!  There are so many things to love about our neighborhood. Not only are we super close to great parkland\t bars\t restaurants\t coffee shops\t food trailers and vintage shops\t we're surrounded by huge live oaks and peacocks! The neighbors are open and friendly and have made us feel welcome from the start. Some of our favorite places include Skylark Lounge\t Contigo\t Dai Due\t Sugar Mama's\t Coldtowne Theater\t The Work Horse\t Foreign and Domestic\t Drink Well\t Kome\t Tyson's Tacos\t Room Service Vintage\t Uptown Modern\t Michi Ramen\t Big Bertha's and Lucy's Fried Chicken. We also really dig our backyard patio and grill\t and we think you will\t too.  Our neighborhood connects directly to the Mueller Greenway trails\t putting guests less than a mile away from The Thinkery and Mueller Park (they have a great Farmer's Market on Sundays and a beautiful loop for walkers and runners alike). By bike\t take the Greenway two miles west to UT\t North Loop or Hyde Park\t take it a mile southeast to Cherrywood or Manor Road\t five miles further and you're in the thick of the East Side &amp; downtown without ever having to leave a bike lane. If cycling is not your thing\t shared rides are abundant (getme is a good app) as are Car To Go cars. There is also a bus stop less than two blocks from the house\t and we are two miles from the Capmetro station at Highland. I-35 is literally a stone's throw from the house\t putting you just a few exits from wherever you want to be in Austin. If you are interested\t we can provide bike rental services and route recommendations.  We have two dogs\t one big and one small. Although we are responsible owners and you will find the house clean\t please consider this if you are afraid of dogs or have allergies. On the other hand\t if you would like to bring your well-behaved dog\t please reach out and we will see if this can be arranged.  Our neighborhood connects directly to the Mueller Greenway trails\t putting guests less than a mile away from The Thinkery and Mueller Park (they have a great Farmer's Market on Sundays and a beautiful loop for walkers and runners alike). By bike\t take the Greenway two miles west to UT\t North Loop or Hyde Park\t take it a mile southeast to Cherrywood or Manor Road\t five miles further and you're in the thick of the East Side &amp; downtown without ever having to leave a bike lane. If cycling is not your thing\t rideshares and cabs are abundant\t as are Car To Go cars. There is also a bus stop less than two blocks from the house\t and we are two miles from the Capmetro station at Highland. I-35 is a stone's throw from the house\t putting you just a few exits from wherever you want to be in Austin. If you are interested\t we can provide bike rental services and route recommendations.</td> \n",
       "        <td id=\"T_f012b12e_ebce_11e8_a66a_f85971f19905row8_col3\" class=\"data row8 col3\" >Austin</td> \n",
       "        <td id=\"T_f012b12e_ebce_11e8_a66a_f85971f19905row8_col4\" class=\"data row8 col4\" >https://www.airbnb.com/rooms/5096161?location=Austin%2C%20TX</td> \n",
       "        <td id=\"T_f012b12e_ebce_11e8_a66a_f85971f19905row8_col5\" class=\"data row8 col5\" >$45</td> \n",
       "        <td id=\"T_f012b12e_ebce_11e8_a66a_f85971f19905row8_col6\" class=\"data row8 col6\" >1</td> \n",
       "    </tr>    <tr> \n",
       "        <td id=\"T_f012b12e_ebce_11e8_a66a_f85971f19905row9_col0\" class=\"data row9 col0\" >73.4629</td> \n",
       "        <td id=\"T_f012b12e_ebce_11e8_a66a_f85971f19905row9_col1\" class=\"data row9 col1\" >Private Rm/Bath @ the Gold House!</td> \n",
       "        <td id=\"T_f012b12e_ebce_11e8_a66a_f85971f19905row9_col2\" class=\"data row9 col2\" >This unique private guest room at the Gold House offers the amenities of home in a city full of things to do! The entire downstairs living room\t kitchen\t and dining area is open to guests. Come on down to SA town and experience Texan hospitality for yourself!  Please note: there is a second guest room at the Gold house\t so if this listing is booked\t do check with me to see if the second room is available! Thanks for your interest!   Cute House: It's a private room upstairs with a full bed\t small desk\t walk-in closet\t Ironing Board\t and en suite bathroom. The window has a nice view of the back yard and wooded easement. The back yard is large with a little garden in the back. The kitchen was recently renovated with nice granite counter tops and new appliances. Also\t there is a brand new running/hiking trail one mile away. Parking is safe and free in the form of my driveway.  More than Two People? No problem: There is a second guestroom in the loft with a full bed that can be reserved via my other listing. http://airbnb.com/rooms/826725  Breakfast/Snacks: The living room/dining room/patio/kitchen are all fair game for guests. Breakfast is provided by way of oatmeal and any items found on the counter (Hot tea and coffee too).   Four-Legged Friends:  I do have two wonderful dogs (lab and husky)\t but don't worry they aren't allowed upstairs. They stay outside during the day\t and sleep in their beds downstairs at night. They are both full of sugar - but if you have a fear of dogs then this place is not for you(URL HIDDEN) Location: It is literally right next to a brand new grocery store but you wouldn't know it from the back yard. It is 10-15 minutes from La Cantera - the gorgeous outdoor shopping mall. As well as Six Flags Fiesta Texas and UTSA. It is 5-10 minutes from the medical center area where all the hospitals are. It is 3 miles from IH-10\t which is the main highway to get to downtown where the Riverwalk is (about 20 minutes by car). Airport - about 15-20 minutes away.   Things to look up for your trip regardless of whether you choose the Gold House for your stay (we want you to have fun!):  In San Antonio... - The Riverwalk  - Market Square - The Spanish Missions (Includes the Alamo of course...you can rent bikes to explore all of them!) - Six Flags Fiesta Texas Theme Park - Sea World Theme Park - Morgan's Wonderland (Special Needs Theme Park) - San Antonio Botanical Gardens - San Antonio Zoo  Within an Hour of San Antonio... - Schlitterbahn Water Park (Amazing rides\t Bring Food\t and Free Parking) - Natural Bridge Caverns (wondrous caves to stay cool) - Natural Bridge Wildlife Ranch (African Safari Texas Style) - Gruene\t Texas (adorable hill country town with shopping and tubing on the river)   The entire downstairs!  Safe neighborhood - within walking distance to a grocery store!  Bus stop is about a 10 minute walk from the front door.  Checkout is more flexible if there are no guests arriving the same night you're leaving.</td> \n",
       "        <td id=\"T_f012b12e_ebce_11e8_a66a_f85971f19905row9_col3\" class=\"data row9 col3\" >San Antonio</td> \n",
       "        <td id=\"T_f012b12e_ebce_11e8_a66a_f85971f19905row9_col4\" class=\"data row9 col4\" >https://www.airbnb.com/rooms/1284796?location=Bulverde%2C%20TX</td> \n",
       "        <td id=\"T_f012b12e_ebce_11e8_a66a_f85971f19905row9_col5\" class=\"data row9 col5\" >$40</td> \n",
       "        <td id=\"T_f012b12e_ebce_11e8_a66a_f85971f19905row9_col6\" class=\"data row9 col6\" >1</td> \n",
       "    </tr></tbody> \n",
       "</table> "
      ],
      "text/plain": [
       "<pandas.io.formats.style.Styler at 0x2bd5e5fa898>"
      ]
     },
     "execution_count": 13,
     "metadata": {},
     "output_type": "execute_result"
    }
   ],
   "source": [
    "h.our_search_engine(inverted_index,np_path,10)"
   ]
  },
  {
   "cell_type": "markdown",
   "metadata": {},
   "source": [
    "Pretty good also in this case."
   ]
  },
  {
   "cell_type": "markdown",
   "metadata": {},
   "source": [
    "# - Where are the houses?\n",
    "\n",
    "Now that we know how to search our holiday houses, it's time to visualize where are them!\n",
    "With the following function the user can give all the preferences he wants (it operates by filtering) and then look where the house that match his preferences are situated.\n",
    "Every marker has the link openable in another table of the browser.\n",
    "\n",
    "Maybe you're a student and you're searching for a room around the university of Houston:"
   ]
  },
  {
   "cell_type": "code",
   "execution_count": 10,
   "metadata": {
    "scrolled": true
   },
   "outputs": [
    {
     "name": "stdout",
     "output_type": "stream",
     "text": [
      "\u001b[1m\u001b[4m\u001b[34mInsert the address you're interested in :\u001b[0m\n",
      "4800 Calhoun Rd, Houston\n",
      "\u001b[1m\u001b[4m\u001b[34mEnter the maximum distance (in km) within which you want to view the available houses:\u001b[0m\n",
      "8\n",
      "\u001b[4m\u001b[1m\u001b[34mHow much would you like to spend at most?\u001b[0m\n",
      "20\n",
      "\u001b[4m\u001b[1m\u001b[34mHow many bedrooms do you want? \u001b[0m\n",
      "2\n"
     ]
    }
   ],
   "source": [
    "import importlib\n",
    "importlib.reload(h)\n",
    "_ = h.fmap(data)\n"
   ]
  },
  {
   "cell_type": "markdown",
   "metadata": {},
   "source": [
    "The map has some interesting features, like the possibility of clicking the link of the associated house in order to be redirected on its AirBnb page. \n",
    "\n",
    "As you can see, the map can't be showed after jupyter is closed and reopened. The reader can just load the files that are in the git and then run the function, or look at the example .html map saved always in the git to visualize the output of the requests above."
   ]
  },
  {
   "cell_type": "markdown",
   "metadata": {},
   "source": [
    "## - Improvements\n",
    "\n",
    "At the end of this work we wanna suggest some possible improvements. Of course, the first upgrade can be get more informations and features on the data, in order to take them in account and get better results.\n",
    "\n",
    "Our score function works well, and the possibility to calibrate the weights allow the user to set his favourite features. Anyway, there are many way to modify the function, maybe \"slowing down\" the exponential in g() by giving as argument the square root of s, or thinking about an h() that decreases linearly on both sides (just an abs).\n",
    "\n",
    "Of course, advanced learning techniques can be used, but those are not \"our\" score.\n",
    "\n",
    "In the end, the last step can be structuring a more user-friendly interface but it's not trivial to do this in jupyter due to its \"storytelling\" natural format."
   ]
  }
 ],
 "metadata": {
  "kernelspec": {
   "display_name": "Python 3",
   "language": "python",
   "name": "python3"
  },
  "language_info": {
   "codemirror_mode": {
    "name": "ipython",
    "version": 3
   },
   "file_extension": ".py",
   "mimetype": "text/x-python",
   "name": "python",
   "nbconvert_exporter": "python",
   "pygments_lexer": "ipython3",
   "version": "3.6.5"
  }
 },
 "nbformat": 4,
 "nbformat_minor": 2
}
